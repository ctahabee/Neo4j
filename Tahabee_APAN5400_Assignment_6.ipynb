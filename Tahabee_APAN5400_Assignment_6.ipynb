{
 "cells": [
  {
   "cell_type": "markdown",
   "id": "gorgeous-metallic",
   "metadata": {},
   "source": [
    "Chowdhury Walid Tahabee\n",
    "#### APAN5400: MANAGING DATA\n",
    "##### 03/09/2021\n",
    "### Assignment 6: Graph Databases - Neo4j"
   ]
  },
  {
   "cell_type": "markdown",
   "id": "adapted-blank",
   "metadata": {},
   "source": [
    "# Installing required packages"
   ]
  },
  {
   "cell_type": "code",
   "execution_count": 1,
   "id": "prepared-jimmy",
   "metadata": {
    "scrolled": true
   },
   "outputs": [
    {
     "name": "stdout",
     "output_type": "stream",
     "text": [
      "Requirement already satisfied: neo4j in /Library/Frameworks/Python.framework/Versions/3.9/lib/python3.9/site-packages (4.2.1)\n",
      "Requirement already satisfied: pytz in /Library/Frameworks/Python.framework/Versions/3.9/lib/python3.9/site-packages (from neo4j) (2021.1)\n",
      "Requirement already satisfied: py2neo in /Library/Frameworks/Python.framework/Versions/3.9/lib/python3.9/site-packages (2021.0.1)\n",
      "Requirement already satisfied: neotime~=1.7.4 in /Library/Frameworks/Python.framework/Versions/3.9/lib/python3.9/site-packages (from py2neo) (1.7.4)\n",
      "Requirement already satisfied: pansi>=2020.7.3 in /Library/Frameworks/Python.framework/Versions/3.9/lib/python3.9/site-packages (from py2neo) (2020.7.3)\n",
      "Requirement already satisfied: certifi in /Library/Frameworks/Python.framework/Versions/3.9/lib/python3.9/site-packages (from py2neo) (2020.12.5)\n",
      "Requirement already satisfied: pytz in /Library/Frameworks/Python.framework/Versions/3.9/lib/python3.9/site-packages (from py2neo) (2021.1)\n",
      "Requirement already satisfied: urllib3 in /Library/Frameworks/Python.framework/Versions/3.9/lib/python3.9/site-packages (from py2neo) (1.26.3)\n",
      "Requirement already satisfied: prompt-toolkit~=2.0.7 in /Library/Frameworks/Python.framework/Versions/3.9/lib/python3.9/site-packages (from py2neo) (2.0.10)\n",
      "Requirement already satisfied: monotonic in /Library/Frameworks/Python.framework/Versions/3.9/lib/python3.9/site-packages (from py2neo) (1.5)\n",
      "Requirement already satisfied: pygments>=2.0.0 in /Library/Frameworks/Python.framework/Versions/3.9/lib/python3.9/site-packages (from py2neo) (2.8.0)\n",
      "Requirement already satisfied: cryptography in /Library/Frameworks/Python.framework/Versions/3.9/lib/python3.9/site-packages (from py2neo) (3.4.6)\n",
      "Requirement already satisfied: six>=1.15.0 in /Library/Frameworks/Python.framework/Versions/3.9/lib/python3.9/site-packages (from py2neo) (1.15.0)\n",
      "Requirement already satisfied: english in /Library/Frameworks/Python.framework/Versions/3.9/lib/python3.9/site-packages (from py2neo) (2020.7.0)\n",
      "Requirement already satisfied: docker in /Library/Frameworks/Python.framework/Versions/3.9/lib/python3.9/site-packages (from py2neo) (4.4.4)\n",
      "Requirement already satisfied: packaging in /Library/Frameworks/Python.framework/Versions/3.9/lib/python3.9/site-packages (from py2neo) (20.9)\n",
      "Requirement already satisfied: wcwidth in /Library/Frameworks/Python.framework/Versions/3.9/lib/python3.9/site-packages (from prompt-toolkit~=2.0.7->py2neo) (0.2.5)\n",
      "Requirement already satisfied: cffi>=1.12 in /Library/Frameworks/Python.framework/Versions/3.9/lib/python3.9/site-packages (from cryptography->py2neo) (1.14.5)\n",
      "Requirement already satisfied: pycparser in /Library/Frameworks/Python.framework/Versions/3.9/lib/python3.9/site-packages (from cffi>=1.12->cryptography->py2neo) (2.20)\n",
      "Requirement already satisfied: requests!=2.18.0,>=2.14.2 in /Library/Frameworks/Python.framework/Versions/3.9/lib/python3.9/site-packages (from docker->py2neo) (2.25.1)\n",
      "Requirement already satisfied: websocket-client>=0.32.0 in /Library/Frameworks/Python.framework/Versions/3.9/lib/python3.9/site-packages (from docker->py2neo) (0.58.0)\n",
      "Requirement already satisfied: idna<3,>=2.5 in /Library/Frameworks/Python.framework/Versions/3.9/lib/python3.9/site-packages (from requests!=2.18.0,>=2.14.2->docker->py2neo) (2.10)\n",
      "Requirement already satisfied: chardet<5,>=3.0.2 in /Library/Frameworks/Python.framework/Versions/3.9/lib/python3.9/site-packages (from requests!=2.18.0,>=2.14.2->docker->py2neo) (4.0.0)\n",
      "Requirement already satisfied: pyparsing>=2.0.2 in /Library/Frameworks/Python.framework/Versions/3.9/lib/python3.9/site-packages (from packaging->py2neo) (2.4.7)\n"
     ]
    }
   ],
   "source": [
    "!pip3 install neo4j\n",
    "!pip3 install py2neo"
   ]
  },
  {
   "cell_type": "markdown",
   "id": "continued-target",
   "metadata": {},
   "source": [
    "# Connecting to Neo4j"
   ]
  },
  {
   "cell_type": "code",
   "execution_count": 2,
   "id": "matched-syntax",
   "metadata": {},
   "outputs": [
    {
     "name": "stdout",
     "output_type": "stream",
     "text": [
      "Successfully connected to Neo4j!\n"
     ]
    }
   ],
   "source": [
    "from neo4j import GraphDatabase\n",
    "\n",
    "database_name = \"apan5400\"\n",
    "username = \"neo4j\"\n",
    "password = \"apan5400\"\n",
    "uri = \"bolt://localhost:7687/\"+database_name\n",
    "\n",
    "driver = GraphDatabase.driver(uri, auth=(username, password))\n",
    "session = driver.session()\n",
    "\n",
    "print(\"Successfully connected to Neo4j!\")"
   ]
  },
  {
   "cell_type": "markdown",
   "id": "generic-scenario",
   "metadata": {},
   "source": [
    "# Importing companies.csv"
   ]
  },
  {
   "cell_type": "code",
   "execution_count": 4,
   "id": "exclusive-sheet",
   "metadata": {},
   "outputs": [
    {
     "name": "stdout",
     "output_type": "stream",
     "text": [
      "All companies are imported from a csv file!\n"
     ]
    }
   ],
   "source": [
    "query1 = (\n",
    "        \"LOAD CSV WITH HEADERS FROM 'file:///companies.csv' AS line \"\n",
    "        \"CREATE (company:Company { \\\n",
    "                       name: line.companyName, \\\n",
    "                  employees: toInteger(line.employees),\\\n",
    "                       year: toInteger(line.founded), \\\n",
    "                    revenue: toFloat(line.annualRevenue) \\\n",
    "                            } \\\n",
    "            )\"\n",
    "     \"MERGE  (city:City {name: line.city})\"\n",
    "     \"MERGE  (state:State {name: line.state})\"\n",
    "     \"MERGE  (country:Country {name: line.country})\"    \n",
    "     \"CREATE (company)-[:HEADQUARTERED_IN]->(city)\"\n",
    "     \"CREATE (city)-[:LOCATED_IN]->(state)\"\n",
    "     \"CREATE (state)-[:PART_OF]->(country)\"\n",
    "    )\n",
    "\n",
    "result1 = session.run(query1)\n",
    "print(\"All companies are imported from a csv file!\")"
   ]
  },
  {
   "cell_type": "markdown",
   "id": "hydraulic-april",
   "metadata": {},
   "source": [
    "# Selecting and printing all nodes in companies.csv"
   ]
  },
  {
   "cell_type": "code",
   "execution_count": 5,
   "id": "arranged-camping",
   "metadata": {},
   "outputs": [
    {
     "data": {
      "text/plain": [
       "[<Node id=0 labels=frozenset({'Company'}) properties={'name': 'Apple', 'revenue': 274.5, 'employees': 147000, 'year': 1976}>,\n",
       " <Node id=1 labels=frozenset({'City'}) properties={'name': 'Cupertino'}>,\n",
       " <Node id=2 labels=frozenset({'State'}) properties={'name': 'California'}>,\n",
       " <Node id=3 labels=frozenset({'Country'}) properties={'name': 'USA'}>,\n",
       " <Node id=4 labels=frozenset({'Company'}) properties={'name': 'Microsoft', 'revenue': 143.0, 'employees': 166475, 'year': 1975}>,\n",
       " <Node id=5 labels=frozenset({'City'}) properties={'name': 'Redmond'}>,\n",
       " <Node id=6 labels=frozenset({'State'}) properties={'name': 'Washington'}>,\n",
       " <Node id=7 labels=frozenset({'Company'}) properties={'name': 'Amazon', 'revenue': 386.0, 'employees': 1298000, 'year': 1994}>,\n",
       " <Node id=8 labels=frozenset({'City'}) properties={'name': 'Seattle'}>,\n",
       " <Node id=9 labels=frozenset({'Company'}) properties={'name': 'Google', 'revenue': 187.5, 'employees': 135301, 'year': 1998}>,\n",
       " <Node id=10 labels=frozenset({'City'}) properties={'name': 'Mountain View'}>,\n",
       " <Node id=11 labels=frozenset({'Company'}) properties={'name': 'Alibaba', 'revenue': 72.0, 'employees': 117600, 'year': 1999}>,\n",
       " <Node id=12 labels=frozenset({'City'}) properties={'name': 'Hangzhou'}>,\n",
       " <Node id=13 labels=frozenset({'State'}) properties={'name': 'Zhejiang'}>,\n",
       " <Node id=14 labels=frozenset({'Country'}) properties={'name': 'China'}>,\n",
       " <Node id=15 labels=frozenset({'Company'}) properties={'name': 'Sony', 'revenue': 76.0, 'employees': 114400, 'year': 1946}>,\n",
       " <Node id=16 labels=frozenset({'City'}) properties={'name': 'Tokyo'}>,\n",
       " <Node id=17 labels=frozenset({'State'}) properties={'name': 'Tokyo'}>,\n",
       " <Node id=18 labels=frozenset({'Country'}) properties={'name': 'Japan'}>,\n",
       " <Node id=19 labels=frozenset({'Company'}) properties={'name': 'Samsung Electronics', 'revenue': 210.0, 'employees': 290000, 'year': 1969}>,\n",
       " <Node id=20 labels=frozenset({'City'}) properties={'name': 'Suwon'}>,\n",
       " <Node id=21 labels=frozenset({'State'}) properties={'name': 'Gyeonggi'}>,\n",
       " <Node id=22 labels=frozenset({'Country'}) properties={'name': 'South Korea'}>,\n",
       " <Node id=23 labels=frozenset({'Company'}) properties={'name': 'Daimler AG', 'revenue': 193.0, 'employees': 298655, 'year': 1926}>,\n",
       " <Node id=24 labels=frozenset({'City'}) properties={'name': 'Stuttgart'}>,\n",
       " <Node id=25 labels=frozenset({'State'}) properties={'name': 'Baden-Württemberg'}>,\n",
       " <Node id=26 labels=frozenset({'Country'}) properties={'name': 'Germany'}>]"
      ]
     },
     "execution_count": 5,
     "metadata": {},
     "output_type": "execute_result"
    }
   ],
   "source": [
    "result2 = session.run(\"MATCH (n) RETURN n as nodes\")\n",
    "[record[\"nodes\"] for record in result2]"
   ]
  },
  {
   "cell_type": "markdown",
   "id": "interim-excuse",
   "metadata": {},
   "source": [
    "# Counting the number of nodes"
   ]
  },
  {
   "cell_type": "code",
   "execution_count": 48,
   "id": "dimensional-frame",
   "metadata": {},
   "outputs": [
    {
     "data": {
      "text/plain": [
       "[27]"
      ]
     },
     "execution_count": 48,
     "metadata": {},
     "output_type": "execute_result"
    }
   ],
   "source": [
    "result3 = session.run(\"MATCH (n) RETURN count(n) as nodes_count\")\n",
    "[record[\"nodes_count\"] for record in result3]"
   ]
  },
  {
   "cell_type": "markdown",
   "id": "union-passion",
   "metadata": {},
   "source": [
    "The graph database was imported from the 'companies.csv' file. The 'companyName', 'employees', 'founded', and 'annualRevenue' columns in the csv file were each imported as properties under the 'Company' node label using the CREATE clause and converted to appropriate data types.\n",
    "The 'city', 'state' and 'country' columns were each imported under their own corresponding node labels with the values mapped to their 'name' property using the MERGE clause.\n",
    "\n",
    "##### 1. Node label: \n",
    "Companies\n",
    "\n",
    "##### Properties: \n",
    "\n",
    "i. name (imported from 'companyName' column in csv file) (string)\n",
    "\n",
    "ii. employees (imported from 'employees' column in csv file) (int)\n",
    "\n",
    "iii. year (imported from 'founded' column in csv file) (int)\n",
    "\n",
    "iv. revnue (imported from 'annualRevenue column in csv file) (float)\n",
    "\n",
    "##### 2. Node label:\n",
    "City\n",
    "##### Properties: \n",
    "name (imported from the city column in csv file) (string)\n",
    "\n",
    "##### 3. Node label:\n",
    "State\n",
    "##### Properties: \n",
    "name (imported from the state column in csv file) (string)\n",
    "\n",
    "##### 4. Node label:\n",
    "Country\n",
    "##### Properties:\n",
    "name (imported from the country column in csv file) (string)\n",
    "\n",
    "\n",
    "3 relationships were generated using the CREATE clause, as well as the '-' and '->' operators to specify the direction of the relationship: \n",
    "##### 1.  HEADQUARTERED_IN - the one-way relationship between companies and city (i.e. companies are headquartered in a city)\n",
    "##### 2. LOCATED_IN - the one-way relationship between city and state (i.e. cities are located in a state)\n",
    "##### 3. PART_OF - the one-way relationship between state and country (i.e. states are part of a country)\n",
    "\n",
    "\n",
    "The resulting graph database has 27 nodes."
   ]
  },
  {
   "cell_type": "markdown",
   "id": "excessive-religious",
   "metadata": {},
   "source": [
    "# Queries\n",
    "## 1. Which companies are located in the state (not city) of Tokyo (via 2nd degree relation)?"
   ]
  },
  {
   "cell_type": "code",
   "execution_count": 47,
   "id": "competent-kingdom",
   "metadata": {},
   "outputs": [
    {
     "name": "stdout",
     "output_type": "stream",
     "text": [
      "The company located in the state of Tokyo is ['Sony']\n"
     ]
    }
   ],
   "source": [
    "query4 = (\"MATCH (state:State {name: 'Tokyo'})-[*2]\"\n",
    "           \"-(company:Company) RETURN DISTINCT company.name as companies\"\n",
    "          )\n",
    "result4 = session.run(query4)   \n",
    "print(\"The company located in the state of Tokyo is \" + str([record[\"companies\"] for record in result4]))"
   ]
  },
  {
   "cell_type": "markdown",
   "id": "sufficient-health",
   "metadata": {},
   "source": [
    "Here, I used the MATCH clause and matched the name property of the State label to 'Tokyo.' Ultimately, I returned the name property of the Company label based on the 2nd degree relationship between State and Company. The query result was stored in result4 and the output was 'Sony,' which is HEADQUARTERED_IN the City 'Tokyo', which in turn is LOCATED_IN the State 'Tokyo'. (i.e. 2nd degree relationship)"
   ]
  },
  {
   "cell_type": "markdown",
   "id": "prepared-updating",
   "metadata": {},
   "source": [
    "## 2. Which companies have been founded in the 1990s? (i.e., Between 1990 and 1999)"
   ]
  },
  {
   "cell_type": "code",
   "execution_count": 100,
   "id": "empty-gateway",
   "metadata": {},
   "outputs": [
    {
     "name": "stdout",
     "output_type": "stream",
     "text": [
      "Companies founded in the 1990s are ['Amazon', 'Google', 'Alibaba']\n"
     ]
    }
   ],
   "source": [
    "query5 = (\"MATCH (company:Company)\"\n",
    "        \"WHERE 1990 <= company.year <= 1999\"\n",
    "        \"RETURN company.name as companies\")\n",
    "result5 = session.run(query5)   \n",
    "print(\"Companies founded in the 1990s are \" + str([record[\"companies\"] for record in result5]))"
   ]
  },
  {
   "cell_type": "markdown",
   "id": "brave-competition",
   "metadata": {},
   "source": [
    "Here, I ran the query using the MATCH clause based on the Company node label and set a constraint for the 'year' property of the Company node label between 1990 and 1999 using the WHERE function.  Ultimately I returned the 'name' property of the Company node label based on the set constraint and stored the result in result5. The query ultimately resulted in a list containing the names of all the companies that were founded in the 90s."
   ]
  },
  {
   "cell_type": "markdown",
   "id": "metallic-snapshot",
   "metadata": {},
   "source": [
    "## 3. What is the average number of employees for all companies in China and the USA in the graph? (via 3rd degree relation) (Use aggregate queries)"
   ]
  },
  {
   "cell_type": "code",
   "execution_count": 213,
   "id": "executed-omega",
   "metadata": {},
   "outputs": [
    {
     "data": {
      "text/plain": [
       "[436694.0]"
      ]
     },
     "execution_count": 213,
     "metadata": {},
     "output_type": "execute_result"
    }
   ],
   "source": [
    "query6 = (\"MATCH (country:Country {name:'USA'}) -[*3]\"\n",
    "           \"-(company:Company) RETURN avg(company.employees) as employees\"\n",
    "          )\n",
    "result6 = session.run(query6)   \n",
    "[record[\"employees\"] for record in result6]\n"
   ]
  },
  {
   "cell_type": "markdown",
   "id": "defined-football",
   "metadata": {},
   "source": [
    "In this query I was unable to figure out how to include 'China' in my MATCH clause - but for partial credit I ran the aggregate 'avg' function to return the average number of employees at companies located in 'USA' based on the third degree relationship between the Country and Company."
   ]
  },
  {
   "cell_type": "markdown",
   "id": "broke-lafayette",
   "metadata": {},
   "source": [
    "## 4. Which companies are headquartered in the USA (via 3rd degree relation)?"
   ]
  },
  {
   "cell_type": "code",
   "execution_count": 106,
   "id": "pleased-platinum",
   "metadata": {},
   "outputs": [
    {
     "name": "stdout",
     "output_type": "stream",
     "text": [
      "Companies headquartered in the USA are ['Google', 'Apple', 'Amazon', 'Microsoft']\n"
     ]
    }
   ],
   "source": [
    "query7 = (\"MATCH (country:Country {name: 'USA'})-[*3]\"\n",
    "           \"-(company:Company) RETURN DISTINCT company.name as companies\"\n",
    "          )\n",
    "result7 = session.run(query6)   \n",
    "print(\"Companies headquartered in the USA are \" + str([record[\"companies\"] for record in result6]))"
   ]
  },
  {
   "cell_type": "markdown",
   "id": "painted-wilson",
   "metadata": {},
   "source": [
    "Here, I used the MATCH function to match the name property of the Country node label with 'USA' and returned the name property of the Company label based on the 3rd degree relationship between Country and Company. The query resulted in the list ['Google', 'Apple', 'Amazon', 'Microsoft'], i.e. all companies that are HEADQUARTERED_IN a certain corresponding City, which are located in their corresponding States, all of which are located in the country 'USA'. (i.e. 3rd degree relationship)"
   ]
  },
  {
   "cell_type": "markdown",
   "id": "scheduled-nowhere",
   "metadata": {},
   "source": [
    "## 5. What is the total annual revenue of the companies in USA (via 3rd degree relation)?"
   ]
  },
  {
   "cell_type": "code",
   "execution_count": 211,
   "id": "stunning-denver",
   "metadata": {},
   "outputs": [
    {
     "name": "stdout",
     "output_type": "stream",
     "text": [
      "Total annual revenue for companies in USA is [1982.0] Million USD\n"
     ]
    }
   ],
   "source": [
    "query8 = (\"MATCH (country:Country {name:'USA'}) -[*3]\"\n",
    "           \"-(company:Company) RETURN sum(company.revenue) as revenue\"\n",
    "          )\n",
    "result8 = session.run(query8)   \n",
    "print(\"Total annual revenue for companies in USA is \" + str([record[\"revenue\"] for record in result8]) + \" Million USD\")"
   ]
  },
  {
   "cell_type": "markdown",
   "id": "outdoor-blake",
   "metadata": {},
   "source": [
    "Here I matched the name property of the Country node label to 'USA' in order to query the the USA node - and using the aggregate 'sum' function, I have returned the sum of all the revenues of companies headquartered in USA via third degree relation between Company and Country. The unaggregated query would return the list of all company revenues, whereas the aggregated query takes the sum of all the list objects. "
   ]
  }
 ],
 "metadata": {
  "kernelspec": {
   "display_name": "Python 3",
   "language": "python",
   "name": "python3"
  },
  "language_info": {
   "codemirror_mode": {
    "name": "ipython",
    "version": 3
   },
   "file_extension": ".py",
   "mimetype": "text/x-python",
   "name": "python",
   "nbconvert_exporter": "python",
   "pygments_lexer": "ipython3",
   "version": "3.9.1"
  }
 },
 "nbformat": 4,
 "nbformat_minor": 5
}
